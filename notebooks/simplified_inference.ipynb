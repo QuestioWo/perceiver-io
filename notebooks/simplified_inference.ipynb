{
 "cells": [
  {
   "cell_type": "markdown",
   "metadata": {},
   "source": [
    "# Environment Setup:"
   ]
  },
  {
   "cell_type": "code",
   "execution_count": 6,
   "metadata": {},
   "outputs": [
    {
     "name": "stdout",
     "output_type": "stream",
     "text": [
      "Processing /home/jimcarty/code/l4_amos_project/src/perceiver-io/dist/perceiver_io-0.6.0-py3-none-any.whl\n",
      "Requirement already satisfied: pytorch-lightning<1.8.0,>=1.7.0 in /home/jimcarty/code/l4_amos_project/src/perceiver-io/venv/lib/python3.10/site-packages (from perceiver-io==0.6.0) (1.7.3)\n",
      "Requirement already satisfied: jsonargparse[signatures]<4.13.0,>=4.12.0 in /home/jimcarty/code/l4_amos_project/src/perceiver-io/venv/lib/python3.10/site-packages (from perceiver-io==0.6.0) (4.12.0)\n",
      "Requirement already satisfied: torch-optimizer<0.4.0,>=0.3.0 in /home/jimcarty/code/l4_amos_project/src/perceiver-io/venv/lib/python3.10/site-packages (from perceiver-io==0.6.0) (0.3.0)\n",
      "Requirement already satisfied: torchmetrics<0.10.0,>=0.9.0 in /home/jimcarty/code/l4_amos_project/src/perceiver-io/venv/lib/python3.10/site-packages (from perceiver-io==0.6.0) (0.9.3)\n",
      "Requirement already satisfied: torch<1.14.0,>=1.13.0 in /home/jimcarty/code/l4_amos_project/src/perceiver-io/venv/lib/python3.10/site-packages (from perceiver-io==0.6.0) (1.13.0)\n",
      "Requirement already satisfied: fairscale<0.5.0,>=0.4.0 in /home/jimcarty/code/l4_amos_project/src/perceiver-io/venv/lib/python3.10/site-packages (from perceiver-io==0.6.0) (0.4.6)\n",
      "Requirement already satisfied: einops<0.5.0,>=0.4.0 in /home/jimcarty/code/l4_amos_project/src/perceiver-io/venv/lib/python3.10/site-packages (from perceiver-io==0.6.0) (0.4.1)\n",
      "Requirement already satisfied: fsspec[s3]==2022.5.0 in /home/jimcarty/code/l4_amos_project/src/perceiver-io/venv/lib/python3.10/site-packages (from perceiver-io==0.6.0) (2022.5.0)\n",
      "Requirement already satisfied: s3fs in /home/jimcarty/code/l4_amos_project/src/perceiver-io/venv/lib/python3.10/site-packages (from fsspec[s3]==2022.5.0->perceiver-io==0.6.0) (2022.5.0)\n",
      "Requirement already satisfied: PyYAML>=3.13 in /home/jimcarty/code/l4_amos_project/src/perceiver-io/venv/lib/python3.10/site-packages (from jsonargparse[signatures]<4.13.0,>=4.12.0->perceiver-io==0.6.0) (6.0)\n",
      "Requirement already satisfied: docstring-parser>=0.7.3 in /home/jimcarty/code/l4_amos_project/src/perceiver-io/venv/lib/python3.10/site-packages (from jsonargparse[signatures]<4.13.0,>=4.12.0->perceiver-io==0.6.0) (0.14.1)\n",
      "Requirement already satisfied: tensorboard>=2.9.1 in /home/jimcarty/code/l4_amos_project/src/perceiver-io/venv/lib/python3.10/site-packages (from pytorch-lightning<1.8.0,>=1.7.0->perceiver-io==0.6.0) (2.10.0)\n",
      "Requirement already satisfied: packaging>=17.0 in /home/jimcarty/code/l4_amos_project/src/perceiver-io/venv/lib/python3.10/site-packages (from pytorch-lightning<1.8.0,>=1.7.0->perceiver-io==0.6.0) (21.3)\n",
      "Requirement already satisfied: pyDeprecate>=0.3.1 in /home/jimcarty/code/l4_amos_project/src/perceiver-io/venv/lib/python3.10/site-packages (from pytorch-lightning<1.8.0,>=1.7.0->perceiver-io==0.6.0) (0.3.2)\n",
      "Requirement already satisfied: tqdm>=4.57.0 in /home/jimcarty/code/l4_amos_project/src/perceiver-io/venv/lib/python3.10/site-packages (from pytorch-lightning<1.8.0,>=1.7.0->perceiver-io==0.6.0) (4.64.0)\n",
      "Requirement already satisfied: numpy>=1.17.2 in /home/jimcarty/code/l4_amos_project/src/perceiver-io/venv/lib/python3.10/site-packages (from pytorch-lightning<1.8.0,>=1.7.0->perceiver-io==0.6.0) (1.21.1)\n",
      "Requirement already satisfied: typing-extensions>=4.0.0 in /home/jimcarty/code/l4_amos_project/src/perceiver-io/venv/lib/python3.10/site-packages (from pytorch-lightning<1.8.0,>=1.7.0->perceiver-io==0.6.0) (4.3.0)\n",
      "Requirement already satisfied: nvidia-cuda-runtime-cu11==11.7.99 in /home/jimcarty/code/l4_amos_project/src/perceiver-io/venv/lib/python3.10/site-packages (from torch<1.14.0,>=1.13.0->perceiver-io==0.6.0) (11.7.99)\n",
      "Requirement already satisfied: nvidia-cudnn-cu11==8.5.0.96 in /home/jimcarty/code/l4_amos_project/src/perceiver-io/venv/lib/python3.10/site-packages (from torch<1.14.0,>=1.13.0->perceiver-io==0.6.0) (8.5.0.96)\n",
      "Requirement already satisfied: nvidia-cublas-cu11==11.10.3.66 in /home/jimcarty/code/l4_amos_project/src/perceiver-io/venv/lib/python3.10/site-packages (from torch<1.14.0,>=1.13.0->perceiver-io==0.6.0) (11.10.3.66)\n",
      "Requirement already satisfied: nvidia-cuda-nvrtc-cu11==11.7.99 in /home/jimcarty/code/l4_amos_project/src/perceiver-io/venv/lib/python3.10/site-packages (from torch<1.14.0,>=1.13.0->perceiver-io==0.6.0) (11.7.99)\n",
      "Requirement already satisfied: setuptools in /home/jimcarty/code/l4_amos_project/src/perceiver-io/venv/lib/python3.10/site-packages (from nvidia-cublas-cu11==11.10.3.66->torch<1.14.0,>=1.13.0->perceiver-io==0.6.0) (65.3.0)\n",
      "Requirement already satisfied: wheel in /home/jimcarty/code/l4_amos_project/src/perceiver-io/venv/lib/python3.10/site-packages (from nvidia-cublas-cu11==11.10.3.66->torch<1.14.0,>=1.13.0->perceiver-io==0.6.0) (0.37.1)\n",
      "Requirement already satisfied: pytorch-ranger>=0.1.1 in /home/jimcarty/code/l4_amos_project/src/perceiver-io/venv/lib/python3.10/site-packages (from torch-optimizer<0.4.0,>=0.3.0->perceiver-io==0.6.0) (0.1.1)\n",
      "Requirement already satisfied: aiohttp in /home/jimcarty/code/l4_amos_project/src/perceiver-io/venv/lib/python3.10/site-packages (from fsspec[s3]==2022.5.0->perceiver-io==0.6.0) (3.8.1)\n",
      "Requirement already satisfied: requests in /home/jimcarty/code/l4_amos_project/src/perceiver-io/venv/lib/python3.10/site-packages (from fsspec[s3]==2022.5.0->perceiver-io==0.6.0) (2.28.1)\n",
      "Requirement already satisfied: pyparsing!=3.0.5,>=2.0.2 in /home/jimcarty/code/l4_amos_project/src/perceiver-io/venv/lib/python3.10/site-packages (from packaging>=17.0->pytorch-lightning<1.8.0,>=1.7.0->perceiver-io==0.6.0) (3.0.9)\n",
      "Requirement already satisfied: werkzeug>=1.0.1 in /home/jimcarty/code/l4_amos_project/src/perceiver-io/venv/lib/python3.10/site-packages (from tensorboard>=2.9.1->pytorch-lightning<1.8.0,>=1.7.0->perceiver-io==0.6.0) (2.2.2)\n",
      "Requirement already satisfied: markdown>=2.6.8 in /home/jimcarty/code/l4_amos_project/src/perceiver-io/venv/lib/python3.10/site-packages (from tensorboard>=2.9.1->pytorch-lightning<1.8.0,>=1.7.0->perceiver-io==0.6.0) (3.4.1)\n",
      "Requirement already satisfied: grpcio>=1.24.3 in /home/jimcarty/code/l4_amos_project/src/perceiver-io/venv/lib/python3.10/site-packages (from tensorboard>=2.9.1->pytorch-lightning<1.8.0,>=1.7.0->perceiver-io==0.6.0) (1.48.0)\n",
      "Requirement already satisfied: google-auth-oauthlib<0.5,>=0.4.1 in /home/jimcarty/code/l4_amos_project/src/perceiver-io/venv/lib/python3.10/site-packages (from tensorboard>=2.9.1->pytorch-lightning<1.8.0,>=1.7.0->perceiver-io==0.6.0) (0.4.6)\n",
      "Requirement already satisfied: absl-py>=0.4 in /home/jimcarty/code/l4_amos_project/src/perceiver-io/venv/lib/python3.10/site-packages (from tensorboard>=2.9.1->pytorch-lightning<1.8.0,>=1.7.0->perceiver-io==0.6.0) (1.2.0)\n",
      "Requirement already satisfied: protobuf<3.20,>=3.9.2 in /home/jimcarty/code/l4_amos_project/src/perceiver-io/venv/lib/python3.10/site-packages (from tensorboard>=2.9.1->pytorch-lightning<1.8.0,>=1.7.0->perceiver-io==0.6.0) (3.19.4)\n",
      "Requirement already satisfied: tensorboard-plugin-wit>=1.6.0 in /home/jimcarty/code/l4_amos_project/src/perceiver-io/venv/lib/python3.10/site-packages (from tensorboard>=2.9.1->pytorch-lightning<1.8.0,>=1.7.0->perceiver-io==0.6.0) (1.8.1)\n",
      "Requirement already satisfied: tensorboard-data-server<0.7.0,>=0.6.0 in /home/jimcarty/code/l4_amos_project/src/perceiver-io/venv/lib/python3.10/site-packages (from tensorboard>=2.9.1->pytorch-lightning<1.8.0,>=1.7.0->perceiver-io==0.6.0) (0.6.1)\n",
      "Requirement already satisfied: google-auth<3,>=1.6.3 in /home/jimcarty/code/l4_amos_project/src/perceiver-io/venv/lib/python3.10/site-packages (from tensorboard>=2.9.1->pytorch-lightning<1.8.0,>=1.7.0->perceiver-io==0.6.0) (2.11.0)\n",
      "Requirement already satisfied: aiobotocore~=2.3.0 in /home/jimcarty/code/l4_amos_project/src/perceiver-io/venv/lib/python3.10/site-packages (from s3fs->fsspec[s3]==2022.5.0->perceiver-io==0.6.0) (2.3.4)\n",
      "Requirement already satisfied: wrapt>=1.10.10 in /home/jimcarty/code/l4_amos_project/src/perceiver-io/venv/lib/python3.10/site-packages (from aiobotocore~=2.3.0->s3fs->fsspec[s3]==2022.5.0->perceiver-io==0.6.0) (1.14.1)\n",
      "Requirement already satisfied: aioitertools>=0.5.1 in /home/jimcarty/code/l4_amos_project/src/perceiver-io/venv/lib/python3.10/site-packages (from aiobotocore~=2.3.0->s3fs->fsspec[s3]==2022.5.0->perceiver-io==0.6.0) (0.10.0)\n",
      "Requirement already satisfied: botocore<1.24.22,>=1.24.21 in /home/jimcarty/code/l4_amos_project/src/perceiver-io/venv/lib/python3.10/site-packages (from aiobotocore~=2.3.0->s3fs->fsspec[s3]==2022.5.0->perceiver-io==0.6.0) (1.24.21)\n",
      "Requirement already satisfied: charset-normalizer<3.0,>=2.0 in /home/jimcarty/code/l4_amos_project/src/perceiver-io/venv/lib/python3.10/site-packages (from aiohttp->fsspec[s3]==2022.5.0->perceiver-io==0.6.0) (2.1.1)\n",
      "Requirement already satisfied: async-timeout<5.0,>=4.0.0a3 in /home/jimcarty/code/l4_amos_project/src/perceiver-io/venv/lib/python3.10/site-packages (from aiohttp->fsspec[s3]==2022.5.0->perceiver-io==0.6.0) (4.0.2)\n",
      "Requirement already satisfied: yarl<2.0,>=1.0 in /home/jimcarty/code/l4_amos_project/src/perceiver-io/venv/lib/python3.10/site-packages (from aiohttp->fsspec[s3]==2022.5.0->perceiver-io==0.6.0) (1.8.1)\n",
      "Requirement already satisfied: frozenlist>=1.1.1 in /home/jimcarty/code/l4_amos_project/src/perceiver-io/venv/lib/python3.10/site-packages (from aiohttp->fsspec[s3]==2022.5.0->perceiver-io==0.6.0) (1.3.1)\n",
      "Requirement already satisfied: multidict<7.0,>=4.5 in /home/jimcarty/code/l4_amos_project/src/perceiver-io/venv/lib/python3.10/site-packages (from aiohttp->fsspec[s3]==2022.5.0->perceiver-io==0.6.0) (6.0.2)\n",
      "Requirement already satisfied: aiosignal>=1.1.2 in /home/jimcarty/code/l4_amos_project/src/perceiver-io/venv/lib/python3.10/site-packages (from aiohttp->fsspec[s3]==2022.5.0->perceiver-io==0.6.0) (1.2.0)\n",
      "Requirement already satisfied: attrs>=17.3.0 in /home/jimcarty/code/l4_amos_project/src/perceiver-io/venv/lib/python3.10/site-packages (from aiohttp->fsspec[s3]==2022.5.0->perceiver-io==0.6.0) (22.1.0)\n",
      "Requirement already satisfied: six>=1.9.0 in /home/jimcarty/code/l4_amos_project/src/perceiver-io/venv/lib/python3.10/site-packages (from google-auth<3,>=1.6.3->tensorboard>=2.9.1->pytorch-lightning<1.8.0,>=1.7.0->perceiver-io==0.6.0) (1.16.0)\n",
      "Requirement already satisfied: cachetools<6.0,>=2.0.0 in /home/jimcarty/code/l4_amos_project/src/perceiver-io/venv/lib/python3.10/site-packages (from google-auth<3,>=1.6.3->tensorboard>=2.9.1->pytorch-lightning<1.8.0,>=1.7.0->perceiver-io==0.6.0) (5.2.0)\n",
      "Requirement already satisfied: rsa<5,>=3.1.4 in /home/jimcarty/code/l4_amos_project/src/perceiver-io/venv/lib/python3.10/site-packages (from google-auth<3,>=1.6.3->tensorboard>=2.9.1->pytorch-lightning<1.8.0,>=1.7.0->perceiver-io==0.6.0) (4.9)\n",
      "Requirement already satisfied: pyasn1-modules>=0.2.1 in /home/jimcarty/code/l4_amos_project/src/perceiver-io/venv/lib/python3.10/site-packages (from google-auth<3,>=1.6.3->tensorboard>=2.9.1->pytorch-lightning<1.8.0,>=1.7.0->perceiver-io==0.6.0) (0.2.8)\n",
      "Requirement already satisfied: requests-oauthlib>=0.7.0 in /home/jimcarty/code/l4_amos_project/src/perceiver-io/venv/lib/python3.10/site-packages (from google-auth-oauthlib<0.5,>=0.4.1->tensorboard>=2.9.1->pytorch-lightning<1.8.0,>=1.7.0->perceiver-io==0.6.0) (1.3.1)\n",
      "Requirement already satisfied: idna<4,>=2.5 in /home/jimcarty/code/l4_amos_project/src/perceiver-io/venv/lib/python3.10/site-packages (from requests->fsspec[s3]==2022.5.0->perceiver-io==0.6.0) (3.3)\n",
      "Requirement already satisfied: urllib3<1.27,>=1.21.1 in /home/jimcarty/code/l4_amos_project/src/perceiver-io/venv/lib/python3.10/site-packages (from requests->fsspec[s3]==2022.5.0->perceiver-io==0.6.0) (1.26.12)\n",
      "Requirement already satisfied: certifi>=2017.4.17 in /home/jimcarty/code/l4_amos_project/src/perceiver-io/venv/lib/python3.10/site-packages (from requests->fsspec[s3]==2022.5.0->perceiver-io==0.6.0) (2022.6.15)\n",
      "Requirement already satisfied: MarkupSafe>=2.1.1 in /home/jimcarty/code/l4_amos_project/src/perceiver-io/venv/lib/python3.10/site-packages (from werkzeug>=1.0.1->tensorboard>=2.9.1->pytorch-lightning<1.8.0,>=1.7.0->perceiver-io==0.6.0) (2.1.1)\n",
      "Requirement already satisfied: python-dateutil<3.0.0,>=2.1 in /home/jimcarty/code/l4_amos_project/src/perceiver-io/venv/lib/python3.10/site-packages (from botocore<1.24.22,>=1.24.21->aiobotocore~=2.3.0->s3fs->fsspec[s3]==2022.5.0->perceiver-io==0.6.0) (2.8.2)\n",
      "Requirement already satisfied: jmespath<2.0.0,>=0.7.1 in /home/jimcarty/code/l4_amos_project/src/perceiver-io/venv/lib/python3.10/site-packages (from botocore<1.24.22,>=1.24.21->aiobotocore~=2.3.0->s3fs->fsspec[s3]==2022.5.0->perceiver-io==0.6.0) (1.0.1)\n",
      "Requirement already satisfied: pyasn1<0.5.0,>=0.4.6 in /home/jimcarty/code/l4_amos_project/src/perceiver-io/venv/lib/python3.10/site-packages (from pyasn1-modules>=0.2.1->google-auth<3,>=1.6.3->tensorboard>=2.9.1->pytorch-lightning<1.8.0,>=1.7.0->perceiver-io==0.6.0) (0.4.8)\n",
      "Requirement already satisfied: oauthlib>=3.0.0 in /home/jimcarty/code/l4_amos_project/src/perceiver-io/venv/lib/python3.10/site-packages (from requests-oauthlib>=0.7.0->google-auth-oauthlib<0.5,>=0.4.1->tensorboard>=2.9.1->pytorch-lightning<1.8.0,>=1.7.0->perceiver-io==0.6.0) (3.2.0)\n",
      "perceiver-io is already installed with the same version as the provided wheel. Use --force-reinstall to force an installation of the wheel.\n",
      "\n",
      "\u001b[1m[\u001b[0m\u001b[34;49mnotice\u001b[0m\u001b[1;39;49m]\u001b[0m\u001b[39;49m A new release of pip available: \u001b[0m\u001b[31;49m22.2.2\u001b[0m\u001b[39;49m -> \u001b[0m\u001b[32;49m22.3.1\u001b[0m\n",
      "\u001b[1m[\u001b[0m\u001b[34;49mnotice\u001b[0m\u001b[1;39;49m]\u001b[0m\u001b[39;49m To update, run: \u001b[0m\u001b[32;49mpip install --upgrade pip\u001b[0m\n",
      "Note: you may need to restart the kernel to use updated packages.\n",
      "Requirement already satisfied: matplotlib in /home/jimcarty/code/l4_amos_project/src/perceiver-io/venv/lib/python3.10/site-packages (3.6.2)\n",
      "Requirement already satisfied: pillow>=6.2.0 in /home/jimcarty/code/l4_amos_project/src/perceiver-io/venv/lib/python3.10/site-packages (from matplotlib) (9.2.0)\n",
      "Requirement already satisfied: cycler>=0.10 in /home/jimcarty/code/l4_amos_project/src/perceiver-io/venv/lib/python3.10/site-packages (from matplotlib) (0.11.0)\n",
      "Requirement already satisfied: fonttools>=4.22.0 in /home/jimcarty/code/l4_amos_project/src/perceiver-io/venv/lib/python3.10/site-packages (from matplotlib) (4.38.0)\n",
      "Requirement already satisfied: kiwisolver>=1.0.1 in /home/jimcarty/code/l4_amos_project/src/perceiver-io/venv/lib/python3.10/site-packages (from matplotlib) (1.4.4)\n",
      "Requirement already satisfied: python-dateutil>=2.7 in /home/jimcarty/code/l4_amos_project/src/perceiver-io/venv/lib/python3.10/site-packages (from matplotlib) (2.8.2)\n",
      "Requirement already satisfied: contourpy>=1.0.1 in /home/jimcarty/code/l4_amos_project/src/perceiver-io/venv/lib/python3.10/site-packages (from matplotlib) (1.0.6)\n",
      "Requirement already satisfied: packaging>=20.0 in /home/jimcarty/code/l4_amos_project/src/perceiver-io/venv/lib/python3.10/site-packages (from matplotlib) (21.3)\n",
      "Requirement already satisfied: pyparsing>=2.2.1 in /home/jimcarty/code/l4_amos_project/src/perceiver-io/venv/lib/python3.10/site-packages (from matplotlib) (3.0.9)\n",
      "Requirement already satisfied: numpy>=1.19 in /home/jimcarty/code/l4_amos_project/src/perceiver-io/venv/lib/python3.10/site-packages (from matplotlib) (1.21.1)\n",
      "Requirement already satisfied: six>=1.5 in /home/jimcarty/code/l4_amos_project/src/perceiver-io/venv/lib/python3.10/site-packages (from python-dateutil>=2.7->matplotlib) (1.16.0)\n",
      "\n",
      "\u001b[1m[\u001b[0m\u001b[34;49mnotice\u001b[0m\u001b[1;39;49m]\u001b[0m\u001b[39;49m A new release of pip available: \u001b[0m\u001b[31;49m22.2.2\u001b[0m\u001b[39;49m -> \u001b[0m\u001b[32;49m22.3.1\u001b[0m\n",
      "\u001b[1m[\u001b[0m\u001b[34;49mnotice\u001b[0m\u001b[1;39;49m]\u001b[0m\u001b[39;49m To update, run: \u001b[0m\u001b[32;49mpip install --upgrade pip\u001b[0m\n",
      "Note: you may need to restart the kernel to use updated packages.\n",
      "Requirement already satisfied: termcolor in /home/jimcarty/code/l4_amos_project/src/perceiver-io/venv/lib/python3.10/site-packages (2.1.0)\n",
      "\n",
      "\u001b[1m[\u001b[0m\u001b[34;49mnotice\u001b[0m\u001b[1;39;49m]\u001b[0m\u001b[39;49m A new release of pip available: \u001b[0m\u001b[31;49m22.2.2\u001b[0m\u001b[39;49m -> \u001b[0m\u001b[32;49m22.3.1\u001b[0m\n",
      "\u001b[1m[\u001b[0m\u001b[34;49mnotice\u001b[0m\u001b[1;39;49m]\u001b[0m\u001b[39;49m To update, run: \u001b[0m\u001b[32;49mpip install --upgrade pip\u001b[0m\n",
      "Note: you may need to restart the kernel to use updated packages.\n",
      "Requirement already satisfied: ipywidgets<8,>=7 in /home/jimcarty/code/l4_amos_project/src/perceiver-io/venv/lib/python3.10/site-packages (7.7.2)\n",
      "Requirement already satisfied: ipykernel>=4.5.1 in /home/jimcarty/code/l4_amos_project/src/perceiver-io/venv/lib/python3.10/site-packages (from ipywidgets<8,>=7) (6.17.0)\n",
      "Requirement already satisfied: traitlets>=4.3.1 in /home/jimcarty/code/l4_amos_project/src/perceiver-io/venv/lib/python3.10/site-packages (from ipywidgets<8,>=7) (5.5.0)\n",
      "Requirement already satisfied: widgetsnbextension~=3.6.0 in /home/jimcarty/code/l4_amos_project/src/perceiver-io/venv/lib/python3.10/site-packages (from ipywidgets<8,>=7) (3.6.1)\n",
      "Requirement already satisfied: ipython-genutils~=0.2.0 in /home/jimcarty/code/l4_amos_project/src/perceiver-io/venv/lib/python3.10/site-packages (from ipywidgets<8,>=7) (0.2.0)\n",
      "Requirement already satisfied: jupyterlab-widgets<3,>=1.0.0 in /home/jimcarty/code/l4_amos_project/src/perceiver-io/venv/lib/python3.10/site-packages (from ipywidgets<8,>=7) (1.1.1)\n",
      "Requirement already satisfied: ipython>=4.0.0 in /home/jimcarty/code/l4_amos_project/src/perceiver-io/venv/lib/python3.10/site-packages (from ipywidgets<8,>=7) (8.6.0)\n",
      "Requirement already satisfied: nest-asyncio in /home/jimcarty/code/l4_amos_project/src/perceiver-io/venv/lib/python3.10/site-packages (from ipykernel>=4.5.1->ipywidgets<8,>=7) (1.5.6)\n",
      "Requirement already satisfied: pyzmq>=17 in /home/jimcarty/code/l4_amos_project/src/perceiver-io/venv/lib/python3.10/site-packages (from ipykernel>=4.5.1->ipywidgets<8,>=7) (24.0.1)\n",
      "Requirement already satisfied: tornado>=6.1 in /home/jimcarty/code/l4_amos_project/src/perceiver-io/venv/lib/python3.10/site-packages (from ipykernel>=4.5.1->ipywidgets<8,>=7) (6.2)\n",
      "Requirement already satisfied: debugpy>=1.0 in /home/jimcarty/code/l4_amos_project/src/perceiver-io/venv/lib/python3.10/site-packages (from ipykernel>=4.5.1->ipywidgets<8,>=7) (1.6.3)\n",
      "Requirement already satisfied: jupyter-client>=6.1.12 in /home/jimcarty/code/l4_amos_project/src/perceiver-io/venv/lib/python3.10/site-packages (from ipykernel>=4.5.1->ipywidgets<8,>=7) (7.4.4)\n",
      "Requirement already satisfied: psutil in /home/jimcarty/code/l4_amos_project/src/perceiver-io/venv/lib/python3.10/site-packages (from ipykernel>=4.5.1->ipywidgets<8,>=7) (5.9.4)\n",
      "Requirement already satisfied: packaging in /home/jimcarty/code/l4_amos_project/src/perceiver-io/venv/lib/python3.10/site-packages (from ipykernel>=4.5.1->ipywidgets<8,>=7) (21.3)\n",
      "Requirement already satisfied: matplotlib-inline>=0.1 in /home/jimcarty/code/l4_amos_project/src/perceiver-io/venv/lib/python3.10/site-packages (from ipykernel>=4.5.1->ipywidgets<8,>=7) (0.1.6)\n",
      "Requirement already satisfied: decorator in /home/jimcarty/code/l4_amos_project/src/perceiver-io/venv/lib/python3.10/site-packages (from ipython>=4.0.0->ipywidgets<8,>=7) (5.1.1)\n",
      "Requirement already satisfied: pickleshare in /home/jimcarty/code/l4_amos_project/src/perceiver-io/venv/lib/python3.10/site-packages (from ipython>=4.0.0->ipywidgets<8,>=7) (0.7.5)\n",
      "Requirement already satisfied: pygments>=2.4.0 in /home/jimcarty/code/l4_amos_project/src/perceiver-io/venv/lib/python3.10/site-packages (from ipython>=4.0.0->ipywidgets<8,>=7) (2.13.0)\n",
      "Requirement already satisfied: prompt-toolkit<3.1.0,>3.0.1 in /home/jimcarty/code/l4_amos_project/src/perceiver-io/venv/lib/python3.10/site-packages (from ipython>=4.0.0->ipywidgets<8,>=7) (3.0.32)\n",
      "Requirement already satisfied: stack-data in /home/jimcarty/code/l4_amos_project/src/perceiver-io/venv/lib/python3.10/site-packages (from ipython>=4.0.0->ipywidgets<8,>=7) (0.6.0)\n",
      "Requirement already satisfied: backcall in /home/jimcarty/code/l4_amos_project/src/perceiver-io/venv/lib/python3.10/site-packages (from ipython>=4.0.0->ipywidgets<8,>=7) (0.2.0)\n",
      "Requirement already satisfied: pexpect>4.3 in /home/jimcarty/code/l4_amos_project/src/perceiver-io/venv/lib/python3.10/site-packages (from ipython>=4.0.0->ipywidgets<8,>=7) (4.8.0)\n",
      "Requirement already satisfied: jedi>=0.16 in /home/jimcarty/code/l4_amos_project/src/perceiver-io/venv/lib/python3.10/site-packages (from ipython>=4.0.0->ipywidgets<8,>=7) (0.18.1)\n",
      "Requirement already satisfied: notebook>=4.4.1 in /home/jimcarty/code/l4_amos_project/src/perceiver-io/venv/lib/python3.10/site-packages (from widgetsnbextension~=3.6.0->ipywidgets<8,>=7) (6.5.2)\n",
      "Requirement already satisfied: parso<0.9.0,>=0.8.0 in /home/jimcarty/code/l4_amos_project/src/perceiver-io/venv/lib/python3.10/site-packages (from jedi>=0.16->ipython>=4.0.0->ipywidgets<8,>=7) (0.8.3)\n",
      "Requirement already satisfied: entrypoints in /home/jimcarty/code/l4_amos_project/src/perceiver-io/venv/lib/python3.10/site-packages (from jupyter-client>=6.1.12->ipykernel>=4.5.1->ipywidgets<8,>=7) (0.4)\n",
      "Requirement already satisfied: python-dateutil>=2.8.2 in /home/jimcarty/code/l4_amos_project/src/perceiver-io/venv/lib/python3.10/site-packages (from jupyter-client>=6.1.12->ipykernel>=4.5.1->ipywidgets<8,>=7) (2.8.2)\n",
      "Requirement already satisfied: jupyter-core>=4.9.2 in /home/jimcarty/code/l4_amos_project/src/perceiver-io/venv/lib/python3.10/site-packages (from jupyter-client>=6.1.12->ipykernel>=4.5.1->ipywidgets<8,>=7) (4.11.2)\n",
      "Requirement already satisfied: jinja2 in /home/jimcarty/code/l4_amos_project/src/perceiver-io/venv/lib/python3.10/site-packages (from notebook>=4.4.1->widgetsnbextension~=3.6.0->ipywidgets<8,>=7) (3.1.2)\n",
      "Requirement already satisfied: nbformat in /home/jimcarty/code/l4_amos_project/src/perceiver-io/venv/lib/python3.10/site-packages (from notebook>=4.4.1->widgetsnbextension~=3.6.0->ipywidgets<8,>=7) (5.7.0)\n",
      "Requirement already satisfied: Send2Trash>=1.8.0 in /home/jimcarty/code/l4_amos_project/src/perceiver-io/venv/lib/python3.10/site-packages (from notebook>=4.4.1->widgetsnbextension~=3.6.0->ipywidgets<8,>=7) (1.8.0)\n",
      "Requirement already satisfied: nbclassic>=0.4.7 in /home/jimcarty/code/l4_amos_project/src/perceiver-io/venv/lib/python3.10/site-packages (from notebook>=4.4.1->widgetsnbextension~=3.6.0->ipywidgets<8,>=7) (0.4.8)\n",
      "Requirement already satisfied: prometheus-client in /home/jimcarty/code/l4_amos_project/src/perceiver-io/venv/lib/python3.10/site-packages (from notebook>=4.4.1->widgetsnbextension~=3.6.0->ipywidgets<8,>=7) (0.15.0)\n",
      "Requirement already satisfied: argon2-cffi in /home/jimcarty/code/l4_amos_project/src/perceiver-io/venv/lib/python3.10/site-packages (from notebook>=4.4.1->widgetsnbextension~=3.6.0->ipywidgets<8,>=7) (21.3.0)\n",
      "Requirement already satisfied: terminado>=0.8.3 in /home/jimcarty/code/l4_amos_project/src/perceiver-io/venv/lib/python3.10/site-packages (from notebook>=4.4.1->widgetsnbextension~=3.6.0->ipywidgets<8,>=7) (0.17.0)\n",
      "Requirement already satisfied: nbconvert>=5 in /home/jimcarty/code/l4_amos_project/src/perceiver-io/venv/lib/python3.10/site-packages (from notebook>=4.4.1->widgetsnbextension~=3.6.0->ipywidgets<8,>=7) (7.2.3)\n",
      "Requirement already satisfied: ptyprocess>=0.5 in /home/jimcarty/code/l4_amos_project/src/perceiver-io/venv/lib/python3.10/site-packages (from pexpect>4.3->ipython>=4.0.0->ipywidgets<8,>=7) (0.7.0)\n",
      "Requirement already satisfied: wcwidth in /home/jimcarty/code/l4_amos_project/src/perceiver-io/venv/lib/python3.10/site-packages (from prompt-toolkit<3.1.0,>3.0.1->ipython>=4.0.0->ipywidgets<8,>=7) (0.2.5)\n",
      "Requirement already satisfied: pyparsing!=3.0.5,>=2.0.2 in /home/jimcarty/code/l4_amos_project/src/perceiver-io/venv/lib/python3.10/site-packages (from packaging->ipykernel>=4.5.1->ipywidgets<8,>=7) (3.0.9)\n",
      "Requirement already satisfied: asttokens>=2.1.0 in /home/jimcarty/code/l4_amos_project/src/perceiver-io/venv/lib/python3.10/site-packages (from stack-data->ipython>=4.0.0->ipywidgets<8,>=7) (2.1.0)\n",
      "Requirement already satisfied: pure-eval in /home/jimcarty/code/l4_amos_project/src/perceiver-io/venv/lib/python3.10/site-packages (from stack-data->ipython>=4.0.0->ipywidgets<8,>=7) (0.2.2)\n",
      "Requirement already satisfied: executing>=1.2.0 in /home/jimcarty/code/l4_amos_project/src/perceiver-io/venv/lib/python3.10/site-packages (from stack-data->ipython>=4.0.0->ipywidgets<8,>=7) (1.2.0)\n",
      "Requirement already satisfied: six in /home/jimcarty/code/l4_amos_project/src/perceiver-io/venv/lib/python3.10/site-packages (from asttokens>=2.1.0->stack-data->ipython>=4.0.0->ipywidgets<8,>=7) (1.16.0)\n",
      "Requirement already satisfied: jupyter-server>=1.8 in /home/jimcarty/code/l4_amos_project/src/perceiver-io/venv/lib/python3.10/site-packages (from nbclassic>=0.4.7->notebook>=4.4.1->widgetsnbextension~=3.6.0->ipywidgets<8,>=7) (1.23.0)\n",
      "Requirement already satisfied: notebook-shim>=0.1.0 in /home/jimcarty/code/l4_amos_project/src/perceiver-io/venv/lib/python3.10/site-packages (from nbclassic>=0.4.7->notebook>=4.4.1->widgetsnbextension~=3.6.0->ipywidgets<8,>=7) (0.2.2)\n",
      "Requirement already satisfied: defusedxml in /home/jimcarty/code/l4_amos_project/src/perceiver-io/venv/lib/python3.10/site-packages (from nbconvert>=5->notebook>=4.4.1->widgetsnbextension~=3.6.0->ipywidgets<8,>=7) (0.7.1)\n",
      "Requirement already satisfied: mistune<3,>=2.0.3 in /home/jimcarty/code/l4_amos_project/src/perceiver-io/venv/lib/python3.10/site-packages (from nbconvert>=5->notebook>=4.4.1->widgetsnbextension~=3.6.0->ipywidgets<8,>=7) (2.0.4)\n",
      "Requirement already satisfied: nbclient>=0.5.0 in /home/jimcarty/code/l4_amos_project/src/perceiver-io/venv/lib/python3.10/site-packages (from nbconvert>=5->notebook>=4.4.1->widgetsnbextension~=3.6.0->ipywidgets<8,>=7) (0.7.0)\n",
      "Requirement already satisfied: jupyterlab-pygments in /home/jimcarty/code/l4_amos_project/src/perceiver-io/venv/lib/python3.10/site-packages (from nbconvert>=5->notebook>=4.4.1->widgetsnbextension~=3.6.0->ipywidgets<8,>=7) (0.2.2)\n",
      "Requirement already satisfied: pandocfilters>=1.4.1 in /home/jimcarty/code/l4_amos_project/src/perceiver-io/venv/lib/python3.10/site-packages (from nbconvert>=5->notebook>=4.4.1->widgetsnbextension~=3.6.0->ipywidgets<8,>=7) (1.5.0)\n",
      "Requirement already satisfied: bleach in /home/jimcarty/code/l4_amos_project/src/perceiver-io/venv/lib/python3.10/site-packages (from nbconvert>=5->notebook>=4.4.1->widgetsnbextension~=3.6.0->ipywidgets<8,>=7) (5.0.1)\n",
      "Requirement already satisfied: markupsafe>=2.0 in /home/jimcarty/code/l4_amos_project/src/perceiver-io/venv/lib/python3.10/site-packages (from nbconvert>=5->notebook>=4.4.1->widgetsnbextension~=3.6.0->ipywidgets<8,>=7) (2.1.1)\n",
      "Requirement already satisfied: beautifulsoup4 in /home/jimcarty/code/l4_amos_project/src/perceiver-io/venv/lib/python3.10/site-packages (from nbconvert>=5->notebook>=4.4.1->widgetsnbextension~=3.6.0->ipywidgets<8,>=7) (4.11.1)\n",
      "Requirement already satisfied: tinycss2 in /home/jimcarty/code/l4_amos_project/src/perceiver-io/venv/lib/python3.10/site-packages (from nbconvert>=5->notebook>=4.4.1->widgetsnbextension~=3.6.0->ipywidgets<8,>=7) (1.2.1)\n",
      "Requirement already satisfied: jsonschema>=2.6 in /home/jimcarty/code/l4_amos_project/src/perceiver-io/venv/lib/python3.10/site-packages (from nbformat->notebook>=4.4.1->widgetsnbextension~=3.6.0->ipywidgets<8,>=7) (4.17.0)\n",
      "Requirement already satisfied: fastjsonschema in /home/jimcarty/code/l4_amos_project/src/perceiver-io/venv/lib/python3.10/site-packages (from nbformat->notebook>=4.4.1->widgetsnbextension~=3.6.0->ipywidgets<8,>=7) (2.16.2)\n",
      "Requirement already satisfied: argon2-cffi-bindings in /home/jimcarty/code/l4_amos_project/src/perceiver-io/venv/lib/python3.10/site-packages (from argon2-cffi->notebook>=4.4.1->widgetsnbextension~=3.6.0->ipywidgets<8,>=7) (21.2.0)\n",
      "Requirement already satisfied: attrs>=17.4.0 in /home/jimcarty/code/l4_amos_project/src/perceiver-io/venv/lib/python3.10/site-packages (from jsonschema>=2.6->nbformat->notebook>=4.4.1->widgetsnbextension~=3.6.0->ipywidgets<8,>=7) (22.1.0)\n",
      "Requirement already satisfied: pyrsistent!=0.17.0,!=0.17.1,!=0.17.2,>=0.14.0 in /home/jimcarty/code/l4_amos_project/src/perceiver-io/venv/lib/python3.10/site-packages (from jsonschema>=2.6->nbformat->notebook>=4.4.1->widgetsnbextension~=3.6.0->ipywidgets<8,>=7) (0.19.2)\n",
      "Requirement already satisfied: anyio<4,>=3.1.0 in /home/jimcarty/code/l4_amos_project/src/perceiver-io/venv/lib/python3.10/site-packages (from jupyter-server>=1.8->nbclassic>=0.4.7->notebook>=4.4.1->widgetsnbextension~=3.6.0->ipywidgets<8,>=7) (3.6.2)\n",
      "Requirement already satisfied: websocket-client in /home/jimcarty/code/l4_amos_project/src/perceiver-io/venv/lib/python3.10/site-packages (from jupyter-server>=1.8->nbclassic>=0.4.7->notebook>=4.4.1->widgetsnbextension~=3.6.0->ipywidgets<8,>=7) (1.4.2)\n",
      "Requirement already satisfied: cffi>=1.0.1 in /home/jimcarty/code/l4_amos_project/src/perceiver-io/venv/lib/python3.10/site-packages (from argon2-cffi-bindings->argon2-cffi->notebook>=4.4.1->widgetsnbextension~=3.6.0->ipywidgets<8,>=7) (1.15.1)\n",
      "Requirement already satisfied: soupsieve>1.2 in /home/jimcarty/code/l4_amos_project/src/perceiver-io/venv/lib/python3.10/site-packages (from beautifulsoup4->nbconvert>=5->notebook>=4.4.1->widgetsnbextension~=3.6.0->ipywidgets<8,>=7) (2.3.2.post1)\n",
      "Requirement already satisfied: webencodings in /home/jimcarty/code/l4_amos_project/src/perceiver-io/venv/lib/python3.10/site-packages (from bleach->nbconvert>=5->notebook>=4.4.1->widgetsnbextension~=3.6.0->ipywidgets<8,>=7) (0.5.1)\n",
      "Requirement already satisfied: sniffio>=1.1 in /home/jimcarty/code/l4_amos_project/src/perceiver-io/venv/lib/python3.10/site-packages (from anyio<4,>=3.1.0->jupyter-server>=1.8->nbclassic>=0.4.7->notebook>=4.4.1->widgetsnbextension~=3.6.0->ipywidgets<8,>=7) (1.3.0)\n",
      "Requirement already satisfied: idna>=2.8 in /home/jimcarty/code/l4_amos_project/src/perceiver-io/venv/lib/python3.10/site-packages (from anyio<4,>=3.1.0->jupyter-server>=1.8->nbclassic>=0.4.7->notebook>=4.4.1->widgetsnbextension~=3.6.0->ipywidgets<8,>=7) (3.3)\n",
      "Requirement already satisfied: pycparser in /home/jimcarty/code/l4_amos_project/src/perceiver-io/venv/lib/python3.10/site-packages (from cffi>=1.0.1->argon2-cffi-bindings->argon2-cffi->notebook>=4.4.1->widgetsnbextension~=3.6.0->ipywidgets<8,>=7) (2.21)\n",
      "\n",
      "\u001b[1m[\u001b[0m\u001b[34;49mnotice\u001b[0m\u001b[1;39;49m]\u001b[0m\u001b[39;49m A new release of pip available: \u001b[0m\u001b[31;49m22.2.2\u001b[0m\u001b[39;49m -> \u001b[0m\u001b[32;49m22.3.1\u001b[0m\n",
      "\u001b[1m[\u001b[0m\u001b[34;49mnotice\u001b[0m\u001b[1;39;49m]\u001b[0m\u001b[39;49m To update, run: \u001b[0m\u001b[32;49mpip install --upgrade pip\u001b[0m\n",
      "Note: you may need to restart the kernel to use updated packages.\n"
     ]
    }
   ],
   "source": [
    "%pip install ../dist/perceiver_io-0.6.0-py3-none-any.whl\n",
    "%pip install matplotlib\n",
    "%pip install termcolor\n",
    "%pip install \"ipywidgets>=7,<8\""
   ]
  },
  {
   "cell_type": "code",
   "execution_count": 7,
   "metadata": {},
   "outputs": [],
   "source": [
    "import matplotlib.pyplot as plt\n",
    "import numpy as np\n",
    "import requests\n",
    "import torch\n",
    "\n",
    "from PIL import Image\n",
    "\n",
    "# The perceiver-io library can use model configurations \n",
    "# and pretrained model parameters from the Hugging Face Hub.\n",
    "from transformers import AutoConfig"
   ]
  },
  {
   "cell_type": "markdown",
   "metadata": {},
   "source": [
    "# MNIST:"
   ]
  },
  {
   "cell_type": "code",
   "execution_count": 8,
   "metadata": {},
   "outputs": [],
   "source": [
    "from torchvision.datasets import MNIST\n",
    "from perceiver.data.image import MNISTPreprocessor\n",
    "\n",
    "mnist = MNIST(root='.cache', download=True, train=False)\n",
    "mnist_preproc = MNISTPreprocessor()"
   ]
  },
  {
   "cell_type": "code",
   "execution_count": 9,
   "metadata": {},
   "outputs": [],
   "source": [
    "from perceiver.model.image.classifier import LitImageClassifier\n",
    "\n",
    "ckpt = '../logs/img_clf/version_0/checkpoints/epoch=018-val_loss=0.062.ckpt'\n",
    "\n",
    "# Load the PyTorch Lightning module of the image classifier from a checkpoint\n",
    "model = LitImageClassifier.load_from_checkpoint(ckpt).model.eval()"
   ]
  },
  {
   "cell_type": "code",
   "execution_count": 10,
   "metadata": {},
   "outputs": [
    {
     "data": {
      "image/png": "[encoded data removed]",
      "text/plain": [
       "<Figure size 800x800 with 9 Axes>"
      ]
     },
     "metadata": {},
     "output_type": "display_data"
    }
   ],
   "source": [
    "cols, rows = 3, 3\n",
    "imgs = [mnist[i][0] for i in range(cols * rows)]\n",
    "\n",
    "with torch.no_grad():\n",
    "    inputs = mnist_preproc.preprocess_batch(imgs)\n",
    "    logits = model(inputs)\n",
    "    preds = logits.argmax(dim=1)\n",
    "    \n",
    "plt.figure(figsize=(8, 8))\n",
    "for i, (img, pred) in enumerate(zip(imgs, preds)):\n",
    "    plt.subplot(rows, cols, i + 1)\n",
    "    plt.axis('off')\n",
    "    plt.title(f'Prediction: {pred}')\n",
    "    plt.imshow(np.array(img), cmap='gray')    "
   ]
  },
  {
   "cell_type": "markdown",
   "metadata": {},
   "source": [
    "# Segmentation:"
   ]
  },
  {
   "cell_type": "code",
   "execution_count": null,
   "metadata": {},
   "outputs": [],
   "source": []
  }
 ],
 "metadata": {
  "kernelspec": {
   "display_name": "Python 3.10.6 ('venv': venv)",
   "language": "python",
   "name": "python3"
  },
  "language_info": {
   "codemirror_mode": {
    "name": "ipython",
    "version": 3
   },
   "file_extension": ".py",
   "mimetype": "text/x-python",
   "name": "python",
   "nbconvert_exporter": "python",
   "pygments_lexer": "ipython3",
   "version": "3.10.6"
  },
  "orig_nbformat": 4,
  "vscode": {
   "interpreter": {
    "hash": "b289b22cef8c2d3661288865b6842be0c1d064fa1fd7cea5d565f013b48526f2"
   }
  }
 },
 "nbformat": 4,
 "nbformat_minor": 2
}
